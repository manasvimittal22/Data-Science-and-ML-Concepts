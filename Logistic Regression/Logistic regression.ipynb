{
 "cells": [
  {
   "cell_type": "markdown",
   "metadata": {},
   "source": [
    "## Logistic Regression"
   ]
  },
  {
   "cell_type": "code",
   "execution_count": 1,
   "metadata": {},
   "outputs": [],
   "source": [
    "# Video: https://www.youtube.com/watch?v=HYcXgN9HaTM\n",
    "# Source Code: https://www.datarmatics.com/data-science/how-to-perform-logistic-regression-in-pythonstep-by-step/\n",
    "# The columns should be categorical"
   ]
  },
  {
   "cell_type": "code",
   "execution_count": 2,
   "metadata": {},
   "outputs": [],
   "source": [
    "from sklearn.datasets import make_classification\n",
    "from matplotlib import pyplot as plt\n",
    "from sklearn.linear_model import LogisticRegression\n",
    "from sklearn.model_selection import train_test_split\n",
    "from sklearn.metrics import confusion_matrix\n",
    "import pandas as pd"
   ]
  },
  {
   "cell_type": "code",
   "execution_count": 3,
   "metadata": {},
   "outputs": [],
   "source": [
    "# Generating the database\n",
    "# make classification allows to generate a dataset\n",
    "# y is categorical which is binary data\n",
    "\n",
    "x, y = make_classification(\n",
    "    n_samples=100,\n",
    "    n_features=1,\n",
    "    n_classes=2,\n",
    "    n_clusters_per_class=1,\n",
    "    flip_y=0.03,\n",
    "    n_informative=1,\n",
    "    n_redundant=0,\n",
    "    n_repeated=0\n",
    ")"
   ]
  },
  {
   "cell_type": "code",
   "execution_count": 11,
   "metadata": {},
   "outputs": [
    {
     "data": {
      "text/plain": [
       "array([[-0.71566958],\n",
       "       [ 0.97069397],\n",
       "       [ 1.02803084],\n",
       "       [ 1.10733764],\n",
       "       [-0.91313203],\n",
       "       [ 1.02459825],\n",
       "       [-1.36206615],\n",
       "       [-0.92591592],\n",
       "       [-0.59194116],\n",
       "       [ 1.18152293],\n",
       "       [ 0.95329183],\n",
       "       [-0.60360122],\n",
       "       [ 1.26093062],\n",
       "       [ 1.16148063],\n",
       "       [ 0.97098811],\n",
       "       [-1.14124164],\n",
       "       [ 0.97858709],\n",
       "       [-0.86268875],\n",
       "       [ 0.76144249],\n",
       "       [ 0.90111445],\n",
       "       [ 1.3054567 ],\n",
       "       [ 1.1824127 ],\n",
       "       [-0.20264422],\n",
       "       [ 0.8104178 ],\n",
       "       [ 0.99552107],\n",
       "       [-0.64434575],\n",
       "       [-1.13733395],\n",
       "       [-1.72157509],\n",
       "       [ 0.9447659 ],\n",
       "       [ 1.26658107],\n",
       "       [ 1.17811945],\n",
       "       [ 0.99368119],\n",
       "       [ 1.05337955],\n",
       "       [ 0.98487653],\n",
       "       [-1.41506446],\n",
       "       [-1.41984575],\n",
       "       [-0.6162018 ],\n",
       "       [-0.87313801],\n",
       "       [ 1.06807841],\n",
       "       [-0.83397763],\n",
       "       [ 0.98171835],\n",
       "       [ 1.08795637],\n",
       "       [ 1.09951929],\n",
       "       [ 1.26359585],\n",
       "       [ 0.82213456],\n",
       "       [ 1.07744363],\n",
       "       [ 1.02177171],\n",
       "       [-0.11763929],\n",
       "       [-1.55441769],\n",
       "       [-1.14614048],\n",
       "       [-1.51082158],\n",
       "       [ 0.82225286],\n",
       "       [-1.15405401],\n",
       "       [-1.27849965],\n",
       "       [ 0.93670567],\n",
       "       [-1.08406146],\n",
       "       [ 0.85957383],\n",
       "       [-1.47470835],\n",
       "       [-0.19713469],\n",
       "       [-0.97250064],\n",
       "       [ 0.88955498],\n",
       "       [-0.98503195],\n",
       "       [-0.91483605],\n",
       "       [ 0.84675992],\n",
       "       [ 0.91673277],\n",
       "       [-0.7860969 ],\n",
       "       [ 1.06993304],\n",
       "       [ 1.0200079 ],\n",
       "       [-0.61304358],\n",
       "       [-0.94114096],\n",
       "       [ 0.9646752 ],\n",
       "       [ 0.96133457],\n",
       "       [ 0.91702197],\n",
       "       [-0.93541001],\n",
       "       [-1.55897941],\n",
       "       [-0.64163065],\n",
       "       [ 0.89795506],\n",
       "       [-1.0515912 ],\n",
       "       [ 1.04533218],\n",
       "       [ 1.27353171],\n",
       "       [-1.35075995],\n",
       "       [-1.18435213],\n",
       "       [-0.80033505],\n",
       "       [-0.82011407],\n",
       "       [ 1.28143516],\n",
       "       [-1.08062492],\n",
       "       [ 1.10813572],\n",
       "       [ 1.00033442],\n",
       "       [-0.77499758],\n",
       "       [-1.24965906],\n",
       "       [-0.63098653],\n",
       "       [-0.78902915],\n",
       "       [-0.62391005],\n",
       "       [ 0.85919925],\n",
       "       [-1.18135397],\n",
       "       [ 1.31541992],\n",
       "       [-1.16091757],\n",
       "       [-0.47006662],\n",
       "       [ 1.26565647],\n",
       "       [-1.39627219]])"
      ]
     },
     "execution_count": 11,
     "metadata": {},
     "output_type": "execute_result"
    }
   ],
   "source": [
    "# see the data x\n",
    "x"
   ]
  },
  {
   "cell_type": "code",
   "execution_count": 13,
   "metadata": {},
   "outputs": [
    {
     "data": {
      "text/plain": [
       "array([0, 1, 1, 1, 0, 1, 0, 0, 0, 1, 1, 0, 1, 1, 1, 0, 1, 0, 1, 1, 1, 1,\n",
       "       0, 1, 1, 0, 0, 0, 1, 1, 1, 1, 1, 1, 0, 0, 0, 0, 1, 0, 1, 1, 1, 1,\n",
       "       1, 1, 1, 0, 0, 0, 0, 1, 0, 0, 1, 0, 1, 0, 0, 0, 1, 0, 0, 1, 1, 0,\n",
       "       1, 1, 0, 0, 0, 1, 1, 0, 0, 0, 1, 0, 1, 1, 0, 0, 0, 0, 1, 0, 1, 1,\n",
       "       0, 0, 0, 0, 0, 1, 0, 1, 0, 0, 1, 0])"
      ]
     },
     "execution_count": 13,
     "metadata": {},
     "output_type": "execute_result"
    }
   ],
   "source": [
    "# see data y\n",
    "y"
   ]
  },
  {
   "cell_type": "code",
   "execution_count": 14,
   "metadata": {},
   "outputs": [
    {
     "data": {
      "image/png": "[encoded data removed]",
      "text/plain": [
       "<Figure size 432x288 with 1 Axes>"
      ]
     },
     "metadata": {
      "needs_background": "light"
     },
     "output_type": "display_data"
    }
   ],
   "source": [
    "# make a scatter plot \n",
    "plt.scatter(x, y, c = y, cmap = 'rainbow')\n",
    "plt.title('Scatter Plot of Logistic Regression')\n",
    "plt.show()"
   ]
  },
  {
   "cell_type": "code",
   "execution_count": 15,
   "metadata": {},
   "outputs": [],
   "source": [
    "# splitting data\n",
    "x_train, x_test, y_train, y_test = train_test_split(x, y, random_state=1)"
   ]
  },
  {
   "cell_type": "code",
   "execution_count": 18,
   "metadata": {},
   "outputs": [
    {
     "data": {
      "text/plain": [
       "(75, 1)"
      ]
     },
     "execution_count": 18,
     "metadata": {},
     "output_type": "execute_result"
    }
   ],
   "source": [
    "# 25 for testin\n",
    "x_train.shape"
   ]
  },
  {
   "cell_type": "code",
   "execution_count": 19,
   "metadata": {},
   "outputs": [
    {
     "data": {
      "text/plain": [
       "LogisticRegression()"
      ]
     },
     "execution_count": 19,
     "metadata": {},
     "output_type": "execute_result"
    }
   ],
   "source": [
    "# fitting data according to the training data\n",
    "log_reg = LogisticRegression()\n",
    "log_reg.fit(x_train, y_train)"
   ]
  },
  {
   "cell_type": "code",
   "execution_count": 24,
   "metadata": {},
   "outputs": [],
   "source": [
    "# predictin based on x test\n",
    "y_pred = log_reg.predict(x_test)"
   ]
  },
  {
   "cell_type": "code",
   "execution_count": 25,
   "metadata": {},
   "outputs": [
    {
     "data": {
      "text/plain": [
       "array([[13,  0],\n",
       "       [ 0, 12]], dtype=int64)"
      ]
     },
     "execution_count": 25,
     "metadata": {},
     "output_type": "execute_result"
    }
   ],
   "source": [
    "# now to see the confusion matrix\n",
    "# TP, FP, FN, TN\n",
    "# FN as low as possible, FP as low as possible\n",
    "\n",
    "confusion_matrix(y_test, y_pred)\n",
    "\n",
    "# the model perfomed to good that there are no false values\n",
    "# accuracy is 100%"
   ]
  },
  {
   "cell_type": "code",
   "execution_count": null,
   "metadata": {},
   "outputs": [],
   "source": []
  }
 ],
 "metadata": {
  "interpreter": {
   "hash": "b833a7997fc5040eadf8794ade3ee9794ba3f6d72e9858382a4c769dfc9918bb"
  },
  "kernelspec": {
   "display_name": "Python 3.9.0 64-bit",
   "language": "python",
   "name": "python3"
  },
  "language_info": {
   "codemirror_mode": {
    "name": "ipython",
    "version": 3
   },
   "file_extension": ".py",
   "mimetype": "text/x-python",
   "name": "python",
   "nbconvert_exporter": "python",
   "pygments_lexer": "ipython3",
   "version": "3.9.0"
  },
  "orig_nbformat": 4
 },
 "nbformat": 4,
 "nbformat_minor": 2
}
